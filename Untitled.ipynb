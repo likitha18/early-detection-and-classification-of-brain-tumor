{
 "cells": [
  {
   "cell_type": "code",
   "execution_count": 1,
   "id": "5869fbae",
   "metadata": {},
   "outputs": [
    {
     "ename": "ModuleNotFoundError",
     "evalue": "No module named 'cv2'",
     "output_type": "error",
     "traceback": [
      "\u001b[1;31m---------------------------------------------------------------------------\u001b[0m",
      "\u001b[1;31mModuleNotFoundError\u001b[0m                       Traceback (most recent call last)",
      "\u001b[1;32m~\\AppData\\Local\\Temp/ipykernel_16180/2043733879.py\u001b[0m in \u001b[0;36m<module>\u001b[1;34m\u001b[0m\n\u001b[0;32m      2\u001b[0m \u001b[1;32mimport\u001b[0m \u001b[0mpandas\u001b[0m \u001b[1;32mas\u001b[0m \u001b[0mpd\u001b[0m\u001b[1;33m\u001b[0m\u001b[1;33m\u001b[0m\u001b[0m\n\u001b[0;32m      3\u001b[0m \u001b[1;32mimport\u001b[0m \u001b[0mmath\u001b[0m\u001b[1;33m\u001b[0m\u001b[1;33m\u001b[0m\u001b[0m\n\u001b[1;32m----> 4\u001b[1;33m \u001b[1;32mimport\u001b[0m \u001b[0mcv2\u001b[0m\u001b[1;33m\u001b[0m\u001b[1;33m\u001b[0m\u001b[0m\n\u001b[0m\u001b[0;32m      5\u001b[0m \u001b[1;32mimport\u001b[0m \u001b[0mmatplotlib\u001b[0m\u001b[1;33m.\u001b[0m\u001b[0mpyplot\u001b[0m \u001b[1;32mas\u001b[0m \u001b[0mplt\u001b[0m\u001b[1;33m\u001b[0m\u001b[1;33m\u001b[0m\u001b[0m\n\u001b[0;32m      6\u001b[0m \u001b[1;32mimport\u001b[0m \u001b[0mos\u001b[0m\u001b[1;33m\u001b[0m\u001b[1;33m\u001b[0m\u001b[0m\n",
      "\u001b[1;31mModuleNotFoundError\u001b[0m: No module named 'cv2'"
     ]
    }
   ],
   "source": [
    "import numpy as np \n",
    "import pandas as pd \n",
    "import math\n",
    "import cv2\n",
    "import matplotlib.pyplot as plt\n",
    "import os\n",
    "import seaborn as sns\n",
    "#import umap\n",
    "from PIL import Image\n",
    "from scipy import misc\n",
    "from os import listdir\n",
    "from os.path import isfile, join\n",
    "import numpy as np\n",
    "from scipy import misc\n",
    "from random import shuffle\n",
    "from collections import Counter\n",
    "import matplotlib.pyplot as plt\n",
    "#from sklearn.decomposition import PCA\n",
    "from sklearn.manifold import TSNE\n",
    "import tensorflow as tf\n",
    "from keras.models import Sequential\n",
    "from keras.layers import Conv2D, MaxPooling2D\n",
    "from keras.layers import Activation, Dropout, Flatten, Dense\n",
    "from keras.utils.np_utils import to_categorical"
   ]
  },
  {
   "cell_type": "code",
   "execution_count": 3,
   "id": "b831b8ff",
   "metadata": {},
   "outputs": [
    {
     "ename": "NameError",
     "evalue": "name 'os' is not defined",
     "output_type": "error",
     "traceback": [
      "\u001b[1;31m---------------------------------------------------------------------------\u001b[0m",
      "\u001b[1;31mNameError\u001b[0m                                 Traceback (most recent call last)",
      "\u001b[1;32m~\\AppData\\Local\\Temp/ipykernel_3092/4215177078.py\u001b[0m in \u001b[0;36m<module>\u001b[1;34m\u001b[0m\n\u001b[1;32m----> 1\u001b[1;33m \u001b[0mos\u001b[0m\u001b[1;33m.\u001b[0m\u001b[0mlistdir\u001b[0m\u001b[1;33m(\u001b[0m\u001b[1;34m'data'\u001b[0m\u001b[1;33m)\u001b[0m\u001b[1;33m\u001b[0m\u001b[1;33m\u001b[0m\u001b[0m\n\u001b[0m",
      "\u001b[1;31mNameError\u001b[0m: name 'os' is not defined"
     ]
    }
   ],
   "source": [
    "os.listdir('data')"
   ]
  },
  {
   "cell_type": "code",
   "execution_count": 4,
   "id": "10fd97fa",
   "metadata": {},
   "outputs": [
    {
     "ename": "NameError",
     "evalue": "name 'Image' is not defined",
     "output_type": "error",
     "traceback": [
      "\u001b[1;31m---------------------------------------------------------------------------\u001b[0m",
      "\u001b[1;31mNameError\u001b[0m                                 Traceback (most recent call last)",
      "\u001b[1;32m~\\AppData\\Local\\Temp/ipykernel_3092/3187563300.py\u001b[0m in \u001b[0;36m<module>\u001b[1;34m\u001b[0m\n\u001b[1;32m----> 1\u001b[1;33m \u001b[0mim\u001b[0m \u001b[1;33m=\u001b[0m\u001b[0mImage\u001b[0m\u001b[1;33m.\u001b[0m\u001b[0mopen\u001b[0m\u001b[1;33m(\u001b[0m\u001b[1;34m'data/no/1 no.jpeg'\u001b[0m\u001b[1;33m)\u001b[0m\u001b[1;33m.\u001b[0m\u001b[0mresize\u001b[0m\u001b[1;33m(\u001b[0m\u001b[1;33m(\u001b[0m\u001b[1;36m128\u001b[0m\u001b[1;33m,\u001b[0m\u001b[1;36m128\u001b[0m\u001b[1;33m)\u001b[0m\u001b[1;33m)\u001b[0m\u001b[1;33m\u001b[0m\u001b[1;33m\u001b[0m\u001b[0m\n\u001b[0m\u001b[0;32m      2\u001b[0m \u001b[0mim\u001b[0m\u001b[1;33m\u001b[0m\u001b[1;33m\u001b[0m\u001b[0m\n",
      "\u001b[1;31mNameError\u001b[0m: name 'Image' is not defined"
     ]
    }
   ],
   "source": [
    "im =Image.open('data/no/1 no.jpeg').resize((128,128))\n",
    "im"
   ]
  },
  {
   "cell_type": "code",
   "execution_count": 5,
   "id": "3deb996f",
   "metadata": {},
   "outputs": [
    {
     "ename": "NameError",
     "evalue": "name 'Image' is not defined",
     "output_type": "error",
     "traceback": [
      "\u001b[1;31m---------------------------------------------------------------------------\u001b[0m",
      "\u001b[1;31mNameError\u001b[0m                                 Traceback (most recent call last)",
      "\u001b[1;32m~\\AppData\\Local\\Temp/ipykernel_3092/2597909353.py\u001b[0m in \u001b[0;36m<module>\u001b[1;34m\u001b[0m\n\u001b[1;32m----> 1\u001b[1;33m \u001b[0mim\u001b[0m \u001b[1;33m=\u001b[0m\u001b[0mImage\u001b[0m\u001b[1;33m.\u001b[0m\u001b[0mopen\u001b[0m\u001b[1;33m(\u001b[0m\u001b[1;34m'data/yes/Y1.jpg'\u001b[0m\u001b[1;33m)\u001b[0m\u001b[1;33m.\u001b[0m\u001b[0mresize\u001b[0m\u001b[1;33m(\u001b[0m\u001b[1;33m(\u001b[0m\u001b[1;36m128\u001b[0m\u001b[1;33m,\u001b[0m\u001b[1;36m128\u001b[0m\u001b[1;33m)\u001b[0m\u001b[1;33m)\u001b[0m\u001b[1;33m\u001b[0m\u001b[1;33m\u001b[0m\u001b[0m\n\u001b[0m\u001b[0;32m      2\u001b[0m \u001b[0mim\u001b[0m\u001b[1;33m\u001b[0m\u001b[1;33m\u001b[0m\u001b[0m\n",
      "\u001b[1;31mNameError\u001b[0m: name 'Image' is not defined"
     ]
    }
   ],
   "source": [
    "im =Image.open('data/yes/Y1.jpg').resize((128,128))\n",
    "im"
   ]
  },
  {
   "cell_type": "code",
   "execution_count": 6,
   "id": "c8af69ae",
   "metadata": {},
   "outputs": [
    {
     "ename": "NameError",
     "evalue": "name 'os' is not defined",
     "output_type": "error",
     "traceback": [
      "\u001b[1;31m---------------------------------------------------------------------------\u001b[0m",
      "\u001b[1;31mNameError\u001b[0m                                 Traceback (most recent call last)",
      "\u001b[1;32m~\\AppData\\Local\\Temp/ipykernel_3092/3689835593.py\u001b[0m in \u001b[0;36m<module>\u001b[1;34m\u001b[0m\n\u001b[1;32m----> 1\u001b[1;33m \u001b[0myes\u001b[0m\u001b[1;33m=\u001b[0m\u001b[0mos\u001b[0m\u001b[1;33m.\u001b[0m\u001b[0mlistdir\u001b[0m\u001b[1;33m(\u001b[0m\u001b[1;34m'data/yes'\u001b[0m\u001b[1;33m)\u001b[0m\u001b[1;33m\u001b[0m\u001b[1;33m\u001b[0m\u001b[0m\n\u001b[0m\u001b[0;32m      2\u001b[0m \u001b[0mno\u001b[0m\u001b[1;33m=\u001b[0m\u001b[0mos\u001b[0m\u001b[1;33m.\u001b[0m\u001b[0mlistdir\u001b[0m\u001b[1;33m(\u001b[0m\u001b[1;34m'data/no'\u001b[0m\u001b[1;33m)\u001b[0m\u001b[1;33m\u001b[0m\u001b[1;33m\u001b[0m\u001b[0m\n",
      "\u001b[1;31mNameError\u001b[0m: name 'os' is not defined"
     ]
    }
   ],
   "source": [
    "yes=os.listdir('data/yes')\n",
    "no=os.listdir('data/no')"
   ]
  },
  {
   "cell_type": "code",
   "execution_count": 7,
   "id": "3c89b374",
   "metadata": {},
   "outputs": [
    {
     "ename": "NameError",
     "evalue": "name 'yes' is not defined",
     "output_type": "error",
     "traceback": [
      "\u001b[1;31m---------------------------------------------------------------------------\u001b[0m",
      "\u001b[1;31mNameError\u001b[0m                                 Traceback (most recent call last)",
      "\u001b[1;32m~\\AppData\\Local\\Temp/ipykernel_3092/1191864358.py\u001b[0m in \u001b[0;36m<module>\u001b[1;34m\u001b[0m\n\u001b[1;32m----> 1\u001b[1;33m \u001b[0mdata\u001b[0m\u001b[1;33m=\u001b[0m\u001b[0mnp\u001b[0m\u001b[1;33m.\u001b[0m\u001b[0mconcatenate\u001b[0m\u001b[1;33m(\u001b[0m\u001b[1;33m[\u001b[0m\u001b[0myes\u001b[0m\u001b[1;33m,\u001b[0m\u001b[0mno\u001b[0m\u001b[1;33m]\u001b[0m\u001b[1;33m)\u001b[0m\u001b[1;33m\u001b[0m\u001b[1;33m\u001b[0m\u001b[0m\n\u001b[0m\u001b[0;32m      2\u001b[0m \u001b[0mlen\u001b[0m\u001b[1;33m(\u001b[0m\u001b[0mdata\u001b[0m\u001b[1;33m)\u001b[0m\u001b[1;33m==\u001b[0m\u001b[0mlen\u001b[0m\u001b[1;33m(\u001b[0m\u001b[0myes\u001b[0m\u001b[1;33m)\u001b[0m\u001b[1;33m+\u001b[0m\u001b[0mlen\u001b[0m\u001b[1;33m(\u001b[0m\u001b[0mno\u001b[0m\u001b[1;33m)\u001b[0m\u001b[1;33m\u001b[0m\u001b[1;33m\u001b[0m\u001b[0m\n",
      "\u001b[1;31mNameError\u001b[0m: name 'yes' is not defined"
     ]
    }
   ],
   "source": [
    "data=np.concatenate([yes,no])\n",
    "len(data)==len(yes)+len(no)"
   ]
  },
  {
   "cell_type": "code",
   "execution_count": 8,
   "id": "9946437f",
   "metadata": {},
   "outputs": [
    {
     "ename": "NameError",
     "evalue": "name 'yes' is not defined",
     "output_type": "error",
     "traceback": [
      "\u001b[1;31m---------------------------------------------------------------------------\u001b[0m",
      "\u001b[1;31mNameError\u001b[0m                                 Traceback (most recent call last)",
      "\u001b[1;32m~\\AppData\\Local\\Temp/ipykernel_3092/4034540970.py\u001b[0m in \u001b[0;36m<module>\u001b[1;34m\u001b[0m\n\u001b[1;32m----> 1\u001b[1;33m \u001b[0mtarget_x\u001b[0m\u001b[1;33m=\u001b[0m\u001b[0mnp\u001b[0m\u001b[1;33m.\u001b[0m\u001b[0mfull\u001b[0m\u001b[1;33m(\u001b[0m\u001b[0mlen\u001b[0m\u001b[1;33m(\u001b[0m\u001b[0myes\u001b[0m\u001b[1;33m)\u001b[0m\u001b[1;33m,\u001b[0m\u001b[1;36m1\u001b[0m\u001b[1;33m)\u001b[0m\u001b[1;33m\u001b[0m\u001b[1;33m\u001b[0m\u001b[0m\n\u001b[0m\u001b[0;32m      2\u001b[0m \u001b[0mtarget_y\u001b[0m\u001b[1;33m=\u001b[0m\u001b[0mnp\u001b[0m\u001b[1;33m.\u001b[0m\u001b[0mfull\u001b[0m\u001b[1;33m(\u001b[0m\u001b[0mlen\u001b[0m\u001b[1;33m(\u001b[0m\u001b[0mno\u001b[0m\u001b[1;33m)\u001b[0m\u001b[1;33m,\u001b[0m\u001b[1;36m0\u001b[0m\u001b[1;33m)\u001b[0m\u001b[1;33m\u001b[0m\u001b[1;33m\u001b[0m\u001b[0m\n\u001b[0;32m      3\u001b[0m \u001b[0mdata_target\u001b[0m\u001b[1;33m=\u001b[0m\u001b[0mnp\u001b[0m\u001b[1;33m.\u001b[0m\u001b[0mconcatenate\u001b[0m\u001b[1;33m(\u001b[0m\u001b[1;33m[\u001b[0m\u001b[0mtarget_x\u001b[0m\u001b[1;33m,\u001b[0m\u001b[0mtarget_y\u001b[0m\u001b[1;33m]\u001b[0m\u001b[1;33m)\u001b[0m\u001b[1;33m\u001b[0m\u001b[1;33m\u001b[0m\u001b[0m\n\u001b[0;32m      4\u001b[0m \u001b[0mlen\u001b[0m\u001b[1;33m(\u001b[0m\u001b[0mdata_target\u001b[0m\u001b[1;33m)\u001b[0m\u001b[1;33m==\u001b[0m\u001b[0mlen\u001b[0m\u001b[1;33m(\u001b[0m\u001b[0mtarget_x\u001b[0m\u001b[1;33m)\u001b[0m\u001b[1;33m+\u001b[0m\u001b[0mlen\u001b[0m\u001b[1;33m(\u001b[0m\u001b[0mtarget_y\u001b[0m\u001b[1;33m)\u001b[0m\u001b[1;33m\u001b[0m\u001b[1;33m\u001b[0m\u001b[0m\n",
      "\u001b[1;31mNameError\u001b[0m: name 'yes' is not defined"
     ]
    }
   ],
   "source": [
    "target_x=np.full(len(yes),1)\n",
    "target_y=np.full(len(no),0)\n",
    "data_target=np.concatenate([target_x,target_y])\n",
    "len(data_target)==len(target_x)+len(target_y)"
   ]
  },
  {
   "cell_type": "code",
   "execution_count": 9,
   "id": "e498bbe0",
   "metadata": {},
   "outputs": [
    {
     "ename": "NameError",
     "evalue": "name 'data_target' is not defined",
     "output_type": "error",
     "traceback": [
      "\u001b[1;31m---------------------------------------------------------------------------\u001b[0m",
      "\u001b[1;31mNameError\u001b[0m                                 Traceback (most recent call last)",
      "\u001b[1;32m~\\AppData\\Local\\Temp/ipykernel_3092/533382297.py\u001b[0m in \u001b[0;36m<module>\u001b[1;34m\u001b[0m\n\u001b[1;32m----> 1\u001b[1;33m \u001b[0mlen\u001b[0m\u001b[1;33m(\u001b[0m\u001b[0mdata_target\u001b[0m\u001b[1;33m)\u001b[0m\u001b[1;33m==\u001b[0m\u001b[0mlen\u001b[0m\u001b[1;33m(\u001b[0m\u001b[0mdata\u001b[0m\u001b[1;33m)\u001b[0m\u001b[1;33m\u001b[0m\u001b[1;33m\u001b[0m\u001b[0m\n\u001b[0m",
      "\u001b[1;31mNameError\u001b[0m: name 'data_target' is not defined"
     ]
    }
   ],
   "source": [
    "len(data_target)==len(data)"
   ]
  },
  {
   "cell_type": "code",
   "execution_count": null,
   "id": "f182a987",
   "metadata": {},
   "outputs": [],
   "source": [
    "data_target"
   ]
  },
  {
   "cell_type": "code",
   "execution_count": 10,
   "id": "a6c048de",
   "metadata": {},
   "outputs": [
    {
     "ename": "NameError",
     "evalue": "name 'data' is not defined",
     "output_type": "error",
     "traceback": [
      "\u001b[1;31m---------------------------------------------------------------------------\u001b[0m",
      "\u001b[1;31mNameError\u001b[0m                                 Traceback (most recent call last)",
      "\u001b[1;32m~\\AppData\\Local\\Temp/ipykernel_3092/391604064.py\u001b[0m in \u001b[0;36m<module>\u001b[1;34m\u001b[0m\n\u001b[1;32m----> 1\u001b[1;33m \u001b[0mdata\u001b[0m\u001b[1;33m\u001b[0m\u001b[1;33m\u001b[0m\u001b[0m\n\u001b[0m",
      "\u001b[1;31mNameError\u001b[0m: name 'data' is not defined"
     ]
    }
   ],
   "source": [
    "data"
   ]
  },
  {
   "cell_type": "code",
   "execution_count": 11,
   "id": "0baad5bd",
   "metadata": {},
   "outputs": [
    {
     "ename": "NameError",
     "evalue": "name 'os' is not defined",
     "output_type": "error",
     "traceback": [
      "\u001b[1;31m---------------------------------------------------------------------------\u001b[0m",
      "\u001b[1;31mNameError\u001b[0m                                 Traceback (most recent call last)",
      "\u001b[1;32m~\\AppData\\Local\\Temp/ipykernel_3092/2011767256.py\u001b[0m in \u001b[0;36m<module>\u001b[1;34m\u001b[0m\n\u001b[1;32m----> 1\u001b[1;33m \u001b[0myes_values\u001b[0m\u001b[1;33m=\u001b[0m\u001b[0mos\u001b[0m\u001b[1;33m.\u001b[0m\u001b[0mlistdir\u001b[0m\u001b[1;33m(\u001b[0m\u001b[1;34m'data/yes'\u001b[0m\u001b[1;33m)\u001b[0m\u001b[1;33m\u001b[0m\u001b[1;33m\u001b[0m\u001b[0m\n\u001b[0m\u001b[0;32m      2\u001b[0m \u001b[0mno_values\u001b[0m\u001b[1;33m=\u001b[0m\u001b[0mos\u001b[0m\u001b[1;33m.\u001b[0m\u001b[0mlistdir\u001b[0m\u001b[1;33m(\u001b[0m\u001b[1;34m'data/no'\u001b[0m\u001b[1;33m)\u001b[0m\u001b[1;33m\u001b[0m\u001b[1;33m\u001b[0m\u001b[0m\n",
      "\u001b[1;31mNameError\u001b[0m: name 'os' is not defined"
     ]
    }
   ],
   "source": [
    "yes_values=os.listdir('data/yes')\n",
    "no_values=os.listdir('data/no')"
   ]
  },
  {
   "cell_type": "code",
   "execution_count": 12,
   "id": "7cd0a3d8",
   "metadata": {},
   "outputs": [
    {
     "ename": "NameError",
     "evalue": "name 'yes_values' is not defined",
     "output_type": "error",
     "traceback": [
      "\u001b[1;31m---------------------------------------------------------------------------\u001b[0m",
      "\u001b[1;31mNameError\u001b[0m                                 Traceback (most recent call last)",
      "\u001b[1;32m~\\AppData\\Local\\Temp/ipykernel_3092/3714740047.py\u001b[0m in \u001b[0;36m<module>\u001b[1;34m\u001b[0m\n\u001b[0;32m      1\u001b[0m \u001b[0mX_data\u001b[0m \u001b[1;33m=\u001b[0m\u001b[1;33m[\u001b[0m\u001b[1;33m]\u001b[0m\u001b[1;33m\u001b[0m\u001b[1;33m\u001b[0m\u001b[0m\n\u001b[1;32m----> 2\u001b[1;33m \u001b[1;32mfor\u001b[0m \u001b[0mfile\u001b[0m \u001b[1;32min\u001b[0m \u001b[0myes_values\u001b[0m\u001b[1;33m:\u001b[0m\u001b[1;33m\u001b[0m\u001b[1;33m\u001b[0m\u001b[0m\n\u001b[0m\u001b[0;32m      3\u001b[0m \u001b[1;33m\u001b[0m\u001b[0m\n\u001b[0;32m      4\u001b[0m     \u001b[0mimg\u001b[0m \u001b[1;33m=\u001b[0m \u001b[0mcv2\u001b[0m\u001b[1;33m.\u001b[0m\u001b[0mimread\u001b[0m\u001b[1;33m(\u001b[0m\u001b[1;34m'data/yes/'\u001b[0m\u001b[1;33m+\u001b[0m\u001b[0mfile\u001b[0m\u001b[1;33m)\u001b[0m\u001b[1;33m\u001b[0m\u001b[1;33m\u001b[0m\u001b[0m\n\u001b[0;32m      5\u001b[0m     \u001b[0mface\u001b[0m \u001b[1;33m=\u001b[0m \u001b[0mcv2\u001b[0m\u001b[1;33m.\u001b[0m\u001b[0mresize\u001b[0m\u001b[1;33m(\u001b[0m\u001b[0mimg\u001b[0m\u001b[1;33m,\u001b[0m \u001b[1;33m(\u001b[0m\u001b[1;36m32\u001b[0m\u001b[1;33m,\u001b[0m \u001b[1;36m32\u001b[0m\u001b[1;33m)\u001b[0m \u001b[1;33m)\u001b[0m\u001b[1;33m\u001b[0m\u001b[1;33m\u001b[0m\u001b[0m\n",
      "\u001b[1;31mNameError\u001b[0m: name 'yes_values' is not defined"
     ]
    }
   ],
   "source": [
    "X_data =[]\n",
    "for file in yes_values:\n",
    "    \n",
    "    img = cv2.imread('data/yes/'+file)\n",
    "    face = cv2.resize(img, (32, 32) )\n",
    "    (b, g, r)=cv2.split(face) \n",
    "    img=cv2.merge([r,g,b])\n",
    "    X_data.append(img)"
   ]
  },
  {
   "cell_type": "code",
   "execution_count": 13,
   "id": "bf5a8695",
   "metadata": {},
   "outputs": [
    {
     "ename": "NameError",
     "evalue": "name 'no_values' is not defined",
     "output_type": "error",
     "traceback": [
      "\u001b[1;31m---------------------------------------------------------------------------\u001b[0m",
      "\u001b[1;31mNameError\u001b[0m                                 Traceback (most recent call last)",
      "\u001b[1;32m~\\AppData\\Local\\Temp/ipykernel_3092/1882992560.py\u001b[0m in \u001b[0;36m<module>\u001b[1;34m\u001b[0m\n\u001b[1;32m----> 1\u001b[1;33m \u001b[1;32mfor\u001b[0m \u001b[0mfile\u001b[0m \u001b[1;32min\u001b[0m \u001b[0mno_values\u001b[0m\u001b[1;33m:\u001b[0m\u001b[1;33m\u001b[0m\u001b[1;33m\u001b[0m\u001b[0m\n\u001b[0m\u001b[0;32m      2\u001b[0m \u001b[1;33m\u001b[0m\u001b[0m\n\u001b[0;32m      3\u001b[0m     \u001b[0mimg\u001b[0m \u001b[1;33m=\u001b[0m \u001b[0mcv2\u001b[0m\u001b[1;33m.\u001b[0m\u001b[0mimread\u001b[0m\u001b[1;33m(\u001b[0m\u001b[1;34m'data/no/'\u001b[0m\u001b[1;33m+\u001b[0m\u001b[0mfile\u001b[0m\u001b[1;33m)\u001b[0m\u001b[1;33m\u001b[0m\u001b[1;33m\u001b[0m\u001b[0m\n\u001b[0;32m      4\u001b[0m     \u001b[0mface\u001b[0m \u001b[1;33m=\u001b[0m \u001b[0mcv2\u001b[0m\u001b[1;33m.\u001b[0m\u001b[0mresize\u001b[0m\u001b[1;33m(\u001b[0m\u001b[0mimg\u001b[0m\u001b[1;33m,\u001b[0m \u001b[1;33m(\u001b[0m\u001b[1;36m32\u001b[0m\u001b[1;33m,\u001b[0m \u001b[1;36m32\u001b[0m\u001b[1;33m)\u001b[0m \u001b[1;33m)\u001b[0m\u001b[1;33m\u001b[0m\u001b[1;33m\u001b[0m\u001b[0m\n\u001b[0;32m      5\u001b[0m     \u001b[1;33m(\u001b[0m\u001b[0mb\u001b[0m\u001b[1;33m,\u001b[0m \u001b[0mg\u001b[0m\u001b[1;33m,\u001b[0m \u001b[0mr\u001b[0m\u001b[1;33m)\u001b[0m\u001b[1;33m=\u001b[0m\u001b[0mcv2\u001b[0m\u001b[1;33m.\u001b[0m\u001b[0msplit\u001b[0m\u001b[1;33m(\u001b[0m\u001b[0mface\u001b[0m\u001b[1;33m)\u001b[0m\u001b[1;33m\u001b[0m\u001b[1;33m\u001b[0m\u001b[0m\n",
      "\u001b[1;31mNameError\u001b[0m: name 'no_values' is not defined"
     ]
    }
   ],
   "source": [
    "\n",
    "for file in no_values:\n",
    "    \n",
    "    img = cv2.imread('data/no/'+file)\n",
    "    face = cv2.resize(img, (32, 32) )\n",
    "    (b, g, r)=cv2.split(face) \n",
    "    img=cv2.merge([r,g,b])\n",
    "    X_data.append(img)"
   ]
  },
  {
   "cell_type": "code",
   "execution_count": 14,
   "id": "7af75ed8",
   "metadata": {},
   "outputs": [
    {
     "ename": "NameError",
     "evalue": "name 'data' is not defined",
     "output_type": "error",
     "traceback": [
      "\u001b[1;31m---------------------------------------------------------------------------\u001b[0m",
      "\u001b[1;31mNameError\u001b[0m                                 Traceback (most recent call last)",
      "\u001b[1;32m~\\AppData\\Local\\Temp/ipykernel_3092/480634203.py\u001b[0m in \u001b[0;36m<module>\u001b[1;34m\u001b[0m\n\u001b[1;32m----> 1\u001b[1;33m \u001b[0mlen\u001b[0m\u001b[1;33m(\u001b[0m\u001b[0mX_data\u001b[0m\u001b[1;33m)\u001b[0m\u001b[1;33m==\u001b[0m\u001b[0mlen\u001b[0m\u001b[1;33m(\u001b[0m\u001b[0mdata\u001b[0m\u001b[1;33m)\u001b[0m\u001b[1;33m==\u001b[0m\u001b[0mlen\u001b[0m\u001b[1;33m(\u001b[0m\u001b[0mdata_target\u001b[0m\u001b[1;33m)\u001b[0m\u001b[1;33m\u001b[0m\u001b[1;33m\u001b[0m\u001b[0m\n\u001b[0m",
      "\u001b[1;31mNameError\u001b[0m: name 'data' is not defined"
     ]
    }
   ],
   "source": [
    "len(X_data)==len(data)==len(data_target)"
   ]
  },
  {
   "cell_type": "code",
   "execution_count": 15,
   "id": "5bfea9c9",
   "metadata": {},
   "outputs": [],
   "source": [
    "X = np.squeeze(X_data)"
   ]
  },
  {
   "cell_type": "code",
   "execution_count": 16,
   "id": "ba6d5936",
   "metadata": {},
   "outputs": [
    {
     "data": {
      "text/plain": [
       "(0,)"
      ]
     },
     "execution_count": 16,
     "metadata": {},
     "output_type": "execute_result"
    }
   ],
   "source": [
    "X.shape"
   ]
  },
  {
   "cell_type": "code",
   "execution_count": 17,
   "id": "d4074661",
   "metadata": {},
   "outputs": [],
   "source": [
    "# normalize data\n",
    "X = X.astype('float32')\n",
    "X /= 255"
   ]
  },
  {
   "cell_type": "code",
   "execution_count": 18,
   "id": "2b4a1832",
   "metadata": {},
   "outputs": [
    {
     "ename": "NameError",
     "evalue": "name 'data_target' is not defined",
     "output_type": "error",
     "traceback": [
      "\u001b[1;31m---------------------------------------------------------------------------\u001b[0m",
      "\u001b[1;31mNameError\u001b[0m                                 Traceback (most recent call last)",
      "\u001b[1;32m~\\AppData\\Local\\Temp/ipykernel_3092/2488002475.py\u001b[0m in \u001b[0;36m<module>\u001b[1;34m\u001b[0m\n\u001b[1;32m----> 1\u001b[1;33m \u001b[0mdata_target\u001b[0m\u001b[1;33m\u001b[0m\u001b[1;33m\u001b[0m\u001b[0m\n\u001b[0m",
      "\u001b[1;31mNameError\u001b[0m: name 'data_target' is not defined"
     ]
    }
   ],
   "source": [
    "data_target"
   ]
  },
  {
   "cell_type": "code",
   "execution_count": 19,
   "id": "cf76480d",
   "metadata": {},
   "outputs": [
    {
     "ename": "NameError",
     "evalue": "name 'data_target' is not defined",
     "output_type": "error",
     "traceback": [
      "\u001b[1;31m---------------------------------------------------------------------------\u001b[0m",
      "\u001b[1;31mNameError\u001b[0m                                 Traceback (most recent call last)",
      "\u001b[1;32m~\\AppData\\Local\\Temp/ipykernel_3092/3082706935.py\u001b[0m in \u001b[0;36m<module>\u001b[1;34m\u001b[0m\n\u001b[1;32m----> 1\u001b[1;33m \u001b[1;33m(\u001b[0m\u001b[0mx_train\u001b[0m\u001b[1;33m,\u001b[0m \u001b[0my_train\u001b[0m\u001b[1;33m)\u001b[0m\u001b[1;33m,\u001b[0m \u001b[1;33m(\u001b[0m\u001b[0mx_test\u001b[0m\u001b[1;33m,\u001b[0m \u001b[0my_test\u001b[0m\u001b[1;33m)\u001b[0m \u001b[1;33m=\u001b[0m \u001b[1;33m(\u001b[0m\u001b[0mX\u001b[0m\u001b[1;33m[\u001b[0m\u001b[1;33m:\u001b[0m\u001b[1;36m190\u001b[0m\u001b[1;33m]\u001b[0m\u001b[1;33m,\u001b[0m\u001b[0mdata_target\u001b[0m\u001b[1;33m[\u001b[0m\u001b[1;33m:\u001b[0m\u001b[1;36m190\u001b[0m\u001b[1;33m]\u001b[0m\u001b[1;33m)\u001b[0m \u001b[1;33m,\u001b[0m \u001b[1;33m(\u001b[0m\u001b[0mX\u001b[0m\u001b[1;33m[\u001b[0m\u001b[1;36m190\u001b[0m\u001b[1;33m:\u001b[0m\u001b[1;33m]\u001b[0m \u001b[1;33m,\u001b[0m \u001b[0mdata_target\u001b[0m\u001b[1;33m[\u001b[0m\u001b[1;36m190\u001b[0m\u001b[1;33m:\u001b[0m\u001b[1;33m]\u001b[0m\u001b[1;33m)\u001b[0m\u001b[1;33m\u001b[0m\u001b[1;33m\u001b[0m\u001b[0m\n\u001b[0m\u001b[0;32m      2\u001b[0m \u001b[1;33m(\u001b[0m\u001b[0mx_valid\u001b[0m \u001b[1;33m,\u001b[0m \u001b[0my_valid\u001b[0m\u001b[1;33m)\u001b[0m \u001b[1;33m=\u001b[0m \u001b[1;33m(\u001b[0m\u001b[0mx_test\u001b[0m\u001b[1;33m[\u001b[0m\u001b[1;33m:\u001b[0m\u001b[1;36m63\u001b[0m\u001b[1;33m]\u001b[0m\u001b[1;33m,\u001b[0m \u001b[0my_test\u001b[0m\u001b[1;33m[\u001b[0m\u001b[1;33m:\u001b[0m\u001b[1;36m63\u001b[0m\u001b[1;33m]\u001b[0m\u001b[1;33m)\u001b[0m\u001b[1;33m\u001b[0m\u001b[1;33m\u001b[0m\u001b[0m\n",
      "\u001b[1;31mNameError\u001b[0m: name 'data_target' is not defined"
     ]
    }
   ],
   "source": [
    "(x_train, y_train), (x_test, y_test) = (X[:190],data_target[:190]) , (X[190:] , data_target[190:])\n",
    "(x_valid , y_valid) = (x_test[:63], y_test[:63])"
   ]
  },
  {
   "cell_type": "code",
   "execution_count": 20,
   "id": "dcee6750",
   "metadata": {},
   "outputs": [
    {
     "ename": "NameError",
     "evalue": "name 'tf' is not defined",
     "output_type": "error",
     "traceback": [
      "\u001b[1;31m---------------------------------------------------------------------------\u001b[0m",
      "\u001b[1;31mNameError\u001b[0m                                 Traceback (most recent call last)",
      "\u001b[1;32m~\\AppData\\Local\\Temp/ipykernel_3092/614772321.py\u001b[0m in \u001b[0;36m<module>\u001b[1;34m\u001b[0m\n\u001b[1;32m----> 1\u001b[1;33m \u001b[0mmodel\u001b[0m \u001b[1;33m=\u001b[0m \u001b[0mtf\u001b[0m\u001b[1;33m.\u001b[0m\u001b[0mkeras\u001b[0m\u001b[1;33m.\u001b[0m\u001b[0mSequential\u001b[0m\u001b[1;33m(\u001b[0m\u001b[1;33m)\u001b[0m\u001b[1;33m\u001b[0m\u001b[1;33m\u001b[0m\u001b[0m\n\u001b[0m\u001b[0;32m      2\u001b[0m \u001b[1;33m\u001b[0m\u001b[0m\n\u001b[0;32m      3\u001b[0m \u001b[1;31m# Must define the input shape in the first layer of the neural network\u001b[0m\u001b[1;33m\u001b[0m\u001b[1;33m\u001b[0m\u001b[0m\n\u001b[0;32m      4\u001b[0m \u001b[0mmodel\u001b[0m\u001b[1;33m.\u001b[0m\u001b[0madd\u001b[0m\u001b[1;33m(\u001b[0m\u001b[0mtf\u001b[0m\u001b[1;33m.\u001b[0m\u001b[0mkeras\u001b[0m\u001b[1;33m.\u001b[0m\u001b[0mlayers\u001b[0m\u001b[1;33m.\u001b[0m\u001b[0mConv2D\u001b[0m\u001b[1;33m(\u001b[0m\u001b[0mfilters\u001b[0m\u001b[1;33m=\u001b[0m\u001b[1;36m16\u001b[0m\u001b[1;33m,\u001b[0m\u001b[0mkernel_size\u001b[0m\u001b[1;33m=\u001b[0m\u001b[1;36m9\u001b[0m\u001b[1;33m,\u001b[0m \u001b[0mpadding\u001b[0m\u001b[1;33m=\u001b[0m\u001b[1;34m'same'\u001b[0m\u001b[1;33m,\u001b[0m \u001b[0mactivation\u001b[0m\u001b[1;33m=\u001b[0m\u001b[1;34m'relu'\u001b[0m\u001b[1;33m,\u001b[0m \u001b[0minput_shape\u001b[0m\u001b[1;33m=\u001b[0m\u001b[1;33m(\u001b[0m\u001b[1;36m32\u001b[0m\u001b[1;33m,\u001b[0m\u001b[1;36m32\u001b[0m\u001b[1;33m,\u001b[0m\u001b[1;36m3\u001b[0m\u001b[1;33m)\u001b[0m\u001b[1;33m)\u001b[0m\u001b[1;33m)\u001b[0m\u001b[1;33m\u001b[0m\u001b[1;33m\u001b[0m\u001b[0m\n\u001b[0;32m      5\u001b[0m \u001b[0mmodel\u001b[0m\u001b[1;33m.\u001b[0m\u001b[0madd\u001b[0m\u001b[1;33m(\u001b[0m\u001b[0mtf\u001b[0m\u001b[1;33m.\u001b[0m\u001b[0mkeras\u001b[0m\u001b[1;33m.\u001b[0m\u001b[0mlayers\u001b[0m\u001b[1;33m.\u001b[0m\u001b[0mMaxPooling2D\u001b[0m\u001b[1;33m(\u001b[0m\u001b[0mpool_size\u001b[0m\u001b[1;33m=\u001b[0m\u001b[1;36m2\u001b[0m\u001b[1;33m)\u001b[0m\u001b[1;33m)\u001b[0m\u001b[1;33m\u001b[0m\u001b[1;33m\u001b[0m\u001b[0m\n",
      "\u001b[1;31mNameError\u001b[0m: name 'tf' is not defined"
     ]
    }
   ],
   "source": [
    "model = tf.keras.Sequential()\n",
    "\n",
    "# Must define the input shape in the first layer of the neural network\n",
    "model.add(tf.keras.layers.Conv2D(filters=16,kernel_size=9, padding='same', activation='relu', input_shape=(32,32,3))) \n",
    "model.add(tf.keras.layers.MaxPooling2D(pool_size=2))\n",
    "model.add(tf.keras.layers.Dropout(0.45))\n",
    "\n",
    "model.add(tf.keras.layers.Conv2D(filters=16,kernel_size=9,padding='same', activation='relu'))\n",
    "model.add(tf.keras.layers.MaxPooling2D(pool_size=2))\n",
    "model.add(tf.keras.layers.Dropout(0.25))\n",
    "\n",
    "model.add(tf.keras.layers.Conv2D(filters=36, kernel_size=9, padding='same', activation='relu'))\n",
    "model.add(tf.keras.layers.MaxPooling2D(pool_size=2))\n",
    "model.add(tf.keras.layers.Dropout(0.25))\n",
    "\n",
    "model.add(tf.keras.layers.Flatten())\n",
    "\n",
    "model.add(tf.keras.layers.Dense(512, activation='relu'))\n",
    "model.add(tf.keras.layers.Dropout(0.15))\n",
    "\n",
    "\n",
    "model.add(tf.keras.layers.Dense(1, activation='sigmoid'))\n",
    "\n",
    "# Take a look at the model summary\n",
    "model.summary()"
   ]
  },
  {
   "cell_type": "code",
   "execution_count": 23,
   "id": "1af6dbd7",
   "metadata": {},
   "outputs": [],
   "source": [
    "model.compile(loss='binary_crossentropy',\n",
    "             optimizer=tf.keras.optimizers.Adam(),\n",
    "             metrics=['acc'])"
   ]
  },
  {
   "cell_type": "code",
   "execution_count": 24,
   "id": "76557608",
   "metadata": {},
   "outputs": [
    {
     "name": "stdout",
     "output_type": "stream",
     "text": [
      "Epoch 1/150\n",
      "2/2 [==============================] - 3s 688ms/step - loss: 0.6804 - acc: 0.4316 - val_loss: 1.4481 - val_acc: 0.0000e+00\n",
      "Epoch 2/150\n",
      "2/2 [==============================] - 1s 274ms/step - loss: 0.4986 - acc: 0.8158 - val_loss: 0.9247 - val_acc: 0.0000e+00\n",
      "Epoch 3/150\n",
      "2/2 [==============================] - 1s 261ms/step - loss: 0.4771 - acc: 0.8158 - val_loss: 0.9208 - val_acc: 0.0000e+00\n",
      "Epoch 4/150\n",
      "2/2 [==============================] - 1s 258ms/step - loss: 0.4806 - acc: 0.8158 - val_loss: 1.1123 - val_acc: 0.0000e+00\n",
      "Epoch 5/150\n",
      "2/2 [==============================] - 1s 264ms/step - loss: 0.4580 - acc: 0.8158 - val_loss: 1.2425 - val_acc: 0.0000e+00\n",
      "Epoch 6/150\n",
      "2/2 [==============================] - 1s 273ms/step - loss: 0.4617 - acc: 0.8158 - val_loss: 1.0420 - val_acc: 0.0000e+00\n",
      "Epoch 7/150\n",
      "2/2 [==============================] - 1s 271ms/step - loss: 0.4463 - acc: 0.8158 - val_loss: 0.8939 - val_acc: 0.0000e+00\n",
      "Epoch 8/150\n",
      "2/2 [==============================] - 1s 263ms/step - loss: 0.4588 - acc: 0.8158 - val_loss: 1.0106 - val_acc: 0.0000e+00\n",
      "Epoch 9/150\n",
      "2/2 [==============================] - 1s 269ms/step - loss: 0.4459 - acc: 0.8158 - val_loss: 1.1429 - val_acc: 0.0000e+00\n",
      "Epoch 10/150\n",
      "2/2 [==============================] - 1s 279ms/step - loss: 0.4480 - acc: 0.8158 - val_loss: 0.9752 - val_acc: 0.0000e+00\n",
      "Epoch 11/150\n",
      "2/2 [==============================] - 1s 262ms/step - loss: 0.4417 - acc: 0.8158 - val_loss: 0.9039 - val_acc: 0.0000e+00\n",
      "Epoch 12/150\n",
      "2/2 [==============================] - 1s 288ms/step - loss: 0.4420 - acc: 0.8158 - val_loss: 0.9483 - val_acc: 0.0000e+00\n",
      "Epoch 13/150\n",
      "2/2 [==============================] - 1s 280ms/step - loss: 0.4279 - acc: 0.8158 - val_loss: 0.9167 - val_acc: 0.0000e+00\n",
      "Epoch 14/150\n",
      "2/2 [==============================] - 1s 277ms/step - loss: 0.4309 - acc: 0.8158 - val_loss: 0.9000 - val_acc: 0.0000e+00\n",
      "Epoch 15/150\n",
      "2/2 [==============================] - 1s 264ms/step - loss: 0.4266 - acc: 0.8158 - val_loss: 0.8691 - val_acc: 0.0000e+00\n",
      "Epoch 16/150\n",
      "2/2 [==============================] - 1s 279ms/step - loss: 0.4277 - acc: 0.8158 - val_loss: 0.8722 - val_acc: 0.0000e+00\n",
      "Epoch 17/150\n",
      "2/2 [==============================] - 1s 264ms/step - loss: 0.4275 - acc: 0.8158 - val_loss: 0.8545 - val_acc: 0.0000e+00\n",
      "Epoch 18/150\n",
      "2/2 [==============================] - 1s 257ms/step - loss: 0.4185 - acc: 0.8158 - val_loss: 0.7632 - val_acc: 0.0000e+00\n",
      "Epoch 19/150\n",
      "2/2 [==============================] - 1s 264ms/step - loss: 0.4304 - acc: 0.8158 - val_loss: 0.8554 - val_acc: 0.0000e+00\n",
      "Epoch 20/150\n",
      "2/2 [==============================] - 1s 282ms/step - loss: 0.4274 - acc: 0.8158 - val_loss: 0.8881 - val_acc: 0.0000e+00\n",
      "Epoch 21/150\n",
      "2/2 [==============================] - 1s 277ms/step - loss: 0.4063 - acc: 0.8158 - val_loss: 0.7859 - val_acc: 0.0000e+00\n",
      "Epoch 22/150\n",
      "2/2 [==============================] - 1s 259ms/step - loss: 0.4300 - acc: 0.8158 - val_loss: 0.8614 - val_acc: 0.0000e+00\n",
      "Epoch 23/150\n",
      "2/2 [==============================] - 1s 274ms/step - loss: 0.4060 - acc: 0.8158 - val_loss: 0.9876 - val_acc: 0.0000e+00\n",
      "Epoch 24/150\n",
      "2/2 [==============================] - 1s 261ms/step - loss: 0.4090 - acc: 0.8158 - val_loss: 0.9556 - val_acc: 0.0000e+00\n",
      "Epoch 25/150\n",
      "2/2 [==============================] - 1s 258ms/step - loss: 0.4035 - acc: 0.8158 - val_loss: 0.8438 - val_acc: 0.0000e+00\n",
      "Epoch 26/150\n",
      "2/2 [==============================] - 1s 259ms/step - loss: 0.4083 - acc: 0.8158 - val_loss: 0.9202 - val_acc: 0.0000e+00\n",
      "Epoch 27/150\n",
      "2/2 [==============================] - 1s 275ms/step - loss: 0.3841 - acc: 0.8158 - val_loss: 1.0820 - val_acc: 0.0000e+00\n",
      "Epoch 28/150\n",
      "2/2 [==============================] - 1s 264ms/step - loss: 0.3856 - acc: 0.8158 - val_loss: 1.0695 - val_acc: 0.0476\n",
      "Epoch 29/150\n",
      "2/2 [==============================] - 1s 259ms/step - loss: 0.3812 - acc: 0.8158 - val_loss: 0.8932 - val_acc: 0.1746\n",
      "Epoch 30/150\n",
      "2/2 [==============================] - 1s 276ms/step - loss: 0.3921 - acc: 0.8316 - val_loss: 0.9630 - val_acc: 0.1905\n",
      "Epoch 31/150\n",
      "2/2 [==============================] - 1s 281ms/step - loss: 0.3726 - acc: 0.8368 - val_loss: 1.0791 - val_acc: 0.1746\n",
      "Epoch 32/150\n",
      "2/2 [==============================] - 1s 253ms/step - loss: 0.3668 - acc: 0.8421 - val_loss: 1.1452 - val_acc: 0.2222\n",
      "Epoch 33/150\n",
      "2/2 [==============================] - 1s 266ms/step - loss: 0.3780 - acc: 0.8368 - val_loss: 1.0868 - val_acc: 0.3333\n",
      "Epoch 34/150\n",
      "2/2 [==============================] - 1s 274ms/step - loss: 0.3554 - acc: 0.8526 - val_loss: 0.9938 - val_acc: 0.4603\n",
      "Epoch 35/150\n",
      "2/2 [==============================] - 1s 260ms/step - loss: 0.3577 - acc: 0.8684 - val_loss: 1.0601 - val_acc: 0.4603\n",
      "Epoch 36/150\n",
      "2/2 [==============================] - 1s 273ms/step - loss: 0.3593 - acc: 0.8579 - val_loss: 1.2054 - val_acc: 0.3810\n",
      "Epoch 37/150\n",
      "2/2 [==============================] - 1s 270ms/step - loss: 0.3517 - acc: 0.8737 - val_loss: 1.1198 - val_acc: 0.4762\n",
      "Epoch 38/150\n",
      "2/2 [==============================] - 1s 278ms/step - loss: 0.3318 - acc: 0.8737 - val_loss: 1.1097 - val_acc: 0.4921\n",
      "Epoch 39/150\n",
      "2/2 [==============================] - 1s 260ms/step - loss: 0.3507 - acc: 0.8684 - val_loss: 1.0271 - val_acc: 0.5714\n",
      "Epoch 40/150\n",
      "2/2 [==============================] - 1s 265ms/step - loss: 0.3536 - acc: 0.8789 - val_loss: 1.0337 - val_acc: 0.5556\n",
      "Epoch 41/150\n",
      "2/2 [==============================] - 1s 260ms/step - loss: 0.3326 - acc: 0.8737 - val_loss: 1.2618 - val_acc: 0.3651\n",
      "Epoch 42/150\n",
      "2/2 [==============================] - 1s 298ms/step - loss: 0.3303 - acc: 0.8632 - val_loss: 1.1461 - val_acc: 0.4444\n",
      "Epoch 43/150\n",
      "2/2 [==============================] - 1s 301ms/step - loss: 0.3307 - acc: 0.8737 - val_loss: 1.0131 - val_acc: 0.5238\n",
      "Epoch 44/150\n",
      "2/2 [==============================] - 1s 274ms/step - loss: 0.3030 - acc: 0.8895 - val_loss: 1.0624 - val_acc: 0.5238\n",
      "Epoch 45/150\n",
      "2/2 [==============================] - 1s 267ms/step - loss: 0.3027 - acc: 0.9000 - val_loss: 1.1565 - val_acc: 0.5556\n",
      "Epoch 46/150\n",
      "2/2 [==============================] - 1s 286ms/step - loss: 0.2885 - acc: 0.8895 - val_loss: 0.9877 - val_acc: 0.6032\n",
      "Epoch 47/150\n",
      "2/2 [==============================] - 1s 267ms/step - loss: 0.2928 - acc: 0.8632 - val_loss: 1.0297 - val_acc: 0.6032\n",
      "Epoch 48/150\n",
      "2/2 [==============================] - 1s 278ms/step - loss: 0.2770 - acc: 0.8947 - val_loss: 1.2436 - val_acc: 0.5556\n",
      "Epoch 49/150\n",
      "2/2 [==============================] - 1s 293ms/step - loss: 0.2883 - acc: 0.8737 - val_loss: 0.9995 - val_acc: 0.6349\n",
      "Epoch 50/150\n",
      "2/2 [==============================] - 1s 263ms/step - loss: 0.2399 - acc: 0.9158 - val_loss: 1.3166 - val_acc: 0.4127\n",
      "Epoch 51/150\n",
      "2/2 [==============================] - 1s 272ms/step - loss: 0.2453 - acc: 0.9053 - val_loss: 0.9526 - val_acc: 0.6825\n",
      "Epoch 52/150\n",
      "2/2 [==============================] - 1s 269ms/step - loss: 0.2360 - acc: 0.9211 - val_loss: 1.0446 - val_acc: 0.6190\n",
      "Epoch 53/150\n",
      "2/2 [==============================] - 1s 271ms/step - loss: 0.2619 - acc: 0.9053 - val_loss: 1.1840 - val_acc: 0.6190\n",
      "Epoch 54/150\n",
      "2/2 [==============================] - 1s 264ms/step - loss: 0.2196 - acc: 0.9105 - val_loss: 0.9357 - val_acc: 0.7143\n",
      "Epoch 55/150\n",
      "2/2 [==============================] - 1s 266ms/step - loss: 0.2154 - acc: 0.9000 - val_loss: 1.3994 - val_acc: 0.5397\n",
      "Epoch 56/150\n",
      "2/2 [==============================] - 1s 248ms/step - loss: 0.2208 - acc: 0.9211 - val_loss: 0.9592 - val_acc: 0.7143\n",
      "Epoch 57/150\n",
      "2/2 [==============================] - 1s 269ms/step - loss: 0.2040 - acc: 0.9211 - val_loss: 1.3708 - val_acc: 0.6508\n",
      "Epoch 58/150\n",
      "2/2 [==============================] - 1s 260ms/step - loss: 0.1961 - acc: 0.9263 - val_loss: 1.2073 - val_acc: 0.6825\n",
      "Epoch 59/150\n",
      "2/2 [==============================] - 1s 323ms/step - loss: 0.1732 - acc: 0.9474 - val_loss: 1.1686 - val_acc: 0.6984\n",
      "Epoch 60/150\n",
      "2/2 [==============================] - 1s 255ms/step - loss: 0.1774 - acc: 0.9316 - val_loss: 0.9852 - val_acc: 0.7143\n",
      "Epoch 61/150\n",
      "2/2 [==============================] - 1s 259ms/step - loss: 0.1773 - acc: 0.9316 - val_loss: 1.5729 - val_acc: 0.6032\n",
      "Epoch 62/150\n",
      "2/2 [==============================] - 1s 261ms/step - loss: 0.1499 - acc: 0.9368 - val_loss: 1.0606 - val_acc: 0.6984\n",
      "Epoch 63/150\n",
      "2/2 [==============================] - 1s 265ms/step - loss: 0.1629 - acc: 0.9421 - val_loss: 1.3242 - val_acc: 0.6825\n",
      "Epoch 64/150\n",
      "2/2 [==============================] - 1s 283ms/step - loss: 0.1811 - acc: 0.9263 - val_loss: 1.1526 - val_acc: 0.6825\n",
      "Epoch 65/150\n",
      "2/2 [==============================] - 1s 279ms/step - loss: 0.1253 - acc: 0.9526 - val_loss: 1.2999 - val_acc: 0.6508\n",
      "Epoch 66/150\n",
      "2/2 [==============================] - 1s 291ms/step - loss: 0.1097 - acc: 0.9632 - val_loss: 1.4222 - val_acc: 0.6508\n",
      "Epoch 67/150\n",
      "2/2 [==============================] - 1s 285ms/step - loss: 0.1137 - acc: 0.9474 - val_loss: 1.0403 - val_acc: 0.7460\n",
      "Epoch 68/150\n",
      "2/2 [==============================] - 1s 260ms/step - loss: 0.1258 - acc: 0.9526 - val_loss: 1.6113 - val_acc: 0.6825\n",
      "Epoch 69/150\n",
      "2/2 [==============================] - 1s 277ms/step - loss: 0.1418 - acc: 0.9421 - val_loss: 1.0508 - val_acc: 0.7460\n",
      "Epoch 70/150\n",
      "2/2 [==============================] - 1s 259ms/step - loss: 0.1113 - acc: 0.9632 - val_loss: 1.2748 - val_acc: 0.7143\n",
      "Epoch 71/150\n",
      "2/2 [==============================] - 1s 266ms/step - loss: 0.1074 - acc: 0.9526 - val_loss: 1.4217 - val_acc: 0.6984\n",
      "Epoch 72/150\n",
      "2/2 [==============================] - 1s 257ms/step - loss: 0.0893 - acc: 0.9684 - val_loss: 1.0039 - val_acc: 0.7778\n",
      "Epoch 73/150\n",
      "2/2 [==============================] - 1s 270ms/step - loss: 0.1058 - acc: 0.9684 - val_loss: 2.0209 - val_acc: 0.6667\n",
      "Epoch 74/150\n",
      "2/2 [==============================] - 1s 254ms/step - loss: 0.1469 - acc: 0.9368 - val_loss: 1.4676 - val_acc: 0.6825\n",
      "Epoch 75/150\n",
      "2/2 [==============================] - 1s 271ms/step - loss: 0.0679 - acc: 0.9737 - val_loss: 1.2954 - val_acc: 0.7143\n",
      "Epoch 76/150\n",
      "2/2 [==============================] - 1s 262ms/step - loss: 0.0682 - acc: 0.9789 - val_loss: 1.4929 - val_acc: 0.6984\n",
      "Epoch 77/150\n",
      "2/2 [==============================] - 1s 279ms/step - loss: 0.0542 - acc: 0.9789 - val_loss: 1.0556 - val_acc: 0.7619\n",
      "Epoch 78/150\n",
      "2/2 [==============================] - 1s 270ms/step - loss: 0.0738 - acc: 0.9895 - val_loss: 1.8317 - val_acc: 0.6667\n",
      "Epoch 79/150\n",
      "2/2 [==============================] - 1s 267ms/step - loss: 0.1349 - acc: 0.9474 - val_loss: 1.3102 - val_acc: 0.7302\n",
      "Epoch 80/150\n",
      "2/2 [==============================] - 1s 278ms/step - loss: 0.0682 - acc: 0.9632 - val_loss: 1.4290 - val_acc: 0.6984\n",
      "Epoch 81/150\n",
      "2/2 [==============================] - 1s 286ms/step - loss: 0.0876 - acc: 0.9789 - val_loss: 1.6541 - val_acc: 0.6984\n",
      "Epoch 82/150\n",
      "2/2 [==============================] - 1s 288ms/step - loss: 0.0542 - acc: 0.9895 - val_loss: 1.1250 - val_acc: 0.7778\n",
      "Epoch 83/150\n",
      "2/2 [==============================] - 1s 310ms/step - loss: 0.0672 - acc: 0.9737 - val_loss: 2.2270 - val_acc: 0.6190\n",
      "Epoch 84/150\n",
      "2/2 [==============================] - 1s 280ms/step - loss: 0.1198 - acc: 0.9579 - val_loss: 1.3446 - val_acc: 0.7460\n",
      "Epoch 85/150\n",
      "2/2 [==============================] - 1s 278ms/step - loss: 0.1171 - acc: 0.9474 - val_loss: 1.6315 - val_acc: 0.7143\n",
      "Epoch 86/150\n",
      "2/2 [==============================] - 1s 273ms/step - loss: 0.1096 - acc: 0.9474 - val_loss: 1.6113 - val_acc: 0.6984\n",
      "Epoch 87/150\n",
      "2/2 [==============================] - 1s 256ms/step - loss: 0.1100 - acc: 0.9737 - val_loss: 0.9260 - val_acc: 0.7460\n",
      "Epoch 88/150\n",
      "2/2 [==============================] - 1s 256ms/step - loss: 0.1561 - acc: 0.9421 - val_loss: 1.5260 - val_acc: 0.6349\n",
      "Epoch 89/150\n",
      "2/2 [==============================] - 1s 263ms/step - loss: 0.1250 - acc: 0.9526 - val_loss: 1.6141 - val_acc: 0.6349\n",
      "Epoch 90/150\n",
      "2/2 [==============================] - 1s 269ms/step - loss: 0.0881 - acc: 0.9632 - val_loss: 0.9388 - val_acc: 0.7619\n",
      "Epoch 91/150\n",
      "2/2 [==============================] - 1s 271ms/step - loss: 0.1171 - acc: 0.9737 - val_loss: 1.1491 - val_acc: 0.7143\n",
      "Epoch 92/150\n",
      "2/2 [==============================] - 1s 263ms/step - loss: 0.1261 - acc: 0.9368 - val_loss: 1.3563 - val_acc: 0.7302\n",
      "Epoch 93/150\n",
      "2/2 [==============================] - 1s 264ms/step - loss: 0.0691 - acc: 0.9842 - val_loss: 1.3455 - val_acc: 0.7460\n",
      "Epoch 94/150\n",
      "2/2 [==============================] - 1s 268ms/step - loss: 0.0753 - acc: 0.9842 - val_loss: 1.6565 - val_acc: 0.6984\n",
      "Epoch 95/150\n",
      "2/2 [==============================] - 1s 270ms/step - loss: 0.1098 - acc: 0.9474 - val_loss: 2.1099 - val_acc: 0.6190\n",
      "Epoch 96/150\n",
      "2/2 [==============================] - 1s 259ms/step - loss: 0.0704 - acc: 0.9684 - val_loss: 1.5443 - val_acc: 0.7143\n",
      "Epoch 97/150\n",
      "2/2 [==============================] - 1s 271ms/step - loss: 0.0442 - acc: 0.9947 - val_loss: 1.2231 - val_acc: 0.7302\n",
      "Epoch 98/150\n",
      "2/2 [==============================] - 1s 265ms/step - loss: 0.0545 - acc: 0.9842 - val_loss: 1.6556 - val_acc: 0.6984\n",
      "Epoch 99/150\n",
      "2/2 [==============================] - 1s 275ms/step - loss: 0.0605 - acc: 0.9789 - val_loss: 1.4994 - val_acc: 0.7143\n",
      "Epoch 100/150\n",
      "2/2 [==============================] - 1s 274ms/step - loss: 0.0492 - acc: 0.9842 - val_loss: 1.4334 - val_acc: 0.6984\n",
      "Epoch 101/150\n",
      "2/2 [==============================] - 1s 266ms/step - loss: 0.0361 - acc: 0.9895 - val_loss: 1.8330 - val_acc: 0.6984\n",
      "Epoch 102/150\n",
      "2/2 [==============================] - 1s 271ms/step - loss: 0.0289 - acc: 0.9895 - val_loss: 2.0515 - val_acc: 0.6667\n",
      "Epoch 103/150\n",
      "2/2 [==============================] - 1s 272ms/step - loss: 0.0520 - acc: 0.9842 - val_loss: 2.0016 - val_acc: 0.6825\n",
      "Epoch 104/150\n",
      "2/2 [==============================] - 1s 269ms/step - loss: 0.0353 - acc: 0.9895 - val_loss: 1.7996 - val_acc: 0.7143\n",
      "Epoch 105/150\n",
      "2/2 [==============================] - 1s 268ms/step - loss: 0.0227 - acc: 0.9895 - val_loss: 2.1350 - val_acc: 0.6825\n",
      "Epoch 106/150\n",
      "2/2 [==============================] - 1s 272ms/step - loss: 0.0209 - acc: 0.9947 - val_loss: 2.2539 - val_acc: 0.6984\n",
      "Epoch 107/150\n",
      "2/2 [==============================] - 1s 266ms/step - loss: 0.0146 - acc: 1.0000 - val_loss: 1.9726 - val_acc: 0.7302\n",
      "Epoch 108/150\n",
      "2/2 [==============================] - 1s 258ms/step - loss: 0.0321 - acc: 0.9842 - val_loss: 2.0266 - val_acc: 0.7302\n",
      "Epoch 109/150\n",
      "2/2 [==============================] - 1s 256ms/step - loss: 0.0518 - acc: 0.9789 - val_loss: 2.3222 - val_acc: 0.6984\n",
      "Epoch 110/150\n",
      "2/2 [==============================] - 1s 252ms/step - loss: 0.0403 - acc: 0.9842 - val_loss: 2.0605 - val_acc: 0.6984\n",
      "Epoch 111/150\n",
      "2/2 [==============================] - 1s 252ms/step - loss: 0.0232 - acc: 0.9947 - val_loss: 1.8690 - val_acc: 0.6984\n",
      "Epoch 112/150\n",
      "2/2 [==============================] - 1s 273ms/step - loss: 0.0229 - acc: 0.9947 - val_loss: 2.0265 - val_acc: 0.6984\n",
      "Epoch 113/150\n",
      "2/2 [==============================] - 1s 282ms/step - loss: 0.0281 - acc: 0.9947 - val_loss: 1.8358 - val_acc: 0.6984\n",
      "Epoch 114/150\n",
      "2/2 [==============================] - 1s 259ms/step - loss: 0.0361 - acc: 0.9789 - val_loss: 1.8102 - val_acc: 0.6984\n",
      "Epoch 115/150\n",
      "2/2 [==============================] - 1s 276ms/step - loss: 0.0359 - acc: 0.9842 - val_loss: 1.8730 - val_acc: 0.6984\n",
      "Epoch 116/150\n",
      "2/2 [==============================] - 1s 297ms/step - loss: 0.0222 - acc: 0.9895 - val_loss: 1.8754 - val_acc: 0.6984\n",
      "Epoch 117/150\n",
      "2/2 [==============================] - 1s 276ms/step - loss: 0.0159 - acc: 1.0000 - val_loss: 1.9363 - val_acc: 0.6825\n",
      "Epoch 118/150\n",
      "2/2 [==============================] - 1s 269ms/step - loss: 0.0213 - acc: 0.9947 - val_loss: 1.9443 - val_acc: 0.6984\n",
      "Epoch 119/150\n",
      "2/2 [==============================] - 1s 248ms/step - loss: 0.0224 - acc: 0.9895 - val_loss: 1.8891 - val_acc: 0.7302\n",
      "Epoch 120/150\n",
      "2/2 [==============================] - 1s 270ms/step - loss: 0.0345 - acc: 0.9842 - val_loss: 2.3348 - val_acc: 0.6984\n",
      "Epoch 121/150\n",
      "2/2 [==============================] - 1s 260ms/step - loss: 0.0264 - acc: 0.9895 - val_loss: 3.2129 - val_acc: 0.6032\n",
      "Epoch 122/150\n",
      "2/2 [==============================] - 1s 255ms/step - loss: 0.0428 - acc: 0.9737 - val_loss: 2.3306 - val_acc: 0.6984\n",
      "Epoch 123/150\n",
      "2/2 [==============================] - 1s 265ms/step - loss: 0.0112 - acc: 1.0000 - val_loss: 1.4702 - val_acc: 0.7302\n"
     ]
    },
    {
     "name": "stdout",
     "output_type": "stream",
     "text": [
      "Epoch 124/150\n",
      "2/2 [==============================] - 1s 266ms/step - loss: 0.0396 - acc: 0.9789 - val_loss: 1.8871 - val_acc: 0.6984\n",
      "Epoch 125/150\n",
      "2/2 [==============================] - 1s 275ms/step - loss: 0.0460 - acc: 0.9737 - val_loss: 1.9724 - val_acc: 0.6984\n",
      "Epoch 126/150\n",
      "2/2 [==============================] - 1s 262ms/step - loss: 0.0094 - acc: 1.0000 - val_loss: 1.6671 - val_acc: 0.7143\n",
      "Epoch 127/150\n",
      "2/2 [==============================] - 1s 260ms/step - loss: 0.0145 - acc: 1.0000 - val_loss: 1.6437 - val_acc: 0.7143\n",
      "Epoch 128/150\n",
      "2/2 [==============================] - 1s 273ms/step - loss: 0.0278 - acc: 0.9895 - val_loss: 1.8682 - val_acc: 0.7143\n",
      "Epoch 129/150\n",
      "2/2 [==============================] - 1s 264ms/step - loss: 0.0244 - acc: 0.9947 - val_loss: 2.1424 - val_acc: 0.6984\n",
      "Epoch 130/150\n",
      "2/2 [==============================] - 1s 261ms/step - loss: 0.0440 - acc: 0.9789 - val_loss: 1.6513 - val_acc: 0.7302\n",
      "Epoch 131/150\n",
      "2/2 [==============================] - 1s 257ms/step - loss: 0.0259 - acc: 0.9947 - val_loss: 1.9233 - val_acc: 0.7143\n",
      "Epoch 132/150\n",
      "2/2 [==============================] - 1s 269ms/step - loss: 0.0090 - acc: 1.0000 - val_loss: 2.6253 - val_acc: 0.6508\n",
      "Epoch 133/150\n",
      "2/2 [==============================] - 1s 267ms/step - loss: 0.0255 - acc: 0.9895 - val_loss: 2.1869 - val_acc: 0.6825\n",
      "Epoch 134/150\n",
      "2/2 [==============================] - 1s 257ms/step - loss: 0.0181 - acc: 0.9895 - val_loss: 1.4489 - val_acc: 0.7778\n",
      "Epoch 135/150\n",
      "2/2 [==============================] - 1s 275ms/step - loss: 0.0320 - acc: 0.9842 - val_loss: 2.1396 - val_acc: 0.7302\n",
      "Epoch 136/150\n",
      "2/2 [==============================] - 1s 272ms/step - loss: 0.0180 - acc: 0.9895 - val_loss: 3.3560 - val_acc: 0.6190\n",
      "Epoch 137/150\n",
      "2/2 [==============================] - 1s 292ms/step - loss: 0.0360 - acc: 0.9842 - val_loss: 2.9655 - val_acc: 0.6667\n",
      "Epoch 138/150\n",
      "2/2 [==============================] - 1s 270ms/step - loss: 0.0061 - acc: 1.0000 - val_loss: 2.2303 - val_acc: 0.7143\n",
      "Epoch 139/150\n",
      "2/2 [==============================] - 1s 273ms/step - loss: 0.0037 - acc: 1.0000 - val_loss: 1.6453 - val_acc: 0.7619\n",
      "Epoch 140/150\n",
      "2/2 [==============================] - 1s 248ms/step - loss: 0.0549 - acc: 0.9684 - val_loss: 2.6644 - val_acc: 0.6984\n",
      "Epoch 141/150\n",
      "2/2 [==============================] - 1s 264ms/step - loss: 0.0168 - acc: 0.9895 - val_loss: 3.4082 - val_acc: 0.6508\n",
      "Epoch 142/150\n",
      "2/2 [==============================] - 1s 279ms/step - loss: 0.0575 - acc: 0.9842 - val_loss: 3.0073 - val_acc: 0.6667\n",
      "Epoch 143/150\n",
      "2/2 [==============================] - 1s 267ms/step - loss: 0.0245 - acc: 0.9842 - val_loss: 1.7852 - val_acc: 0.7302\n",
      "Epoch 144/150\n",
      "2/2 [==============================] - 1s 261ms/step - loss: 0.0377 - acc: 0.9947 - val_loss: 1.7946 - val_acc: 0.7143\n",
      "Epoch 145/150\n",
      "2/2 [==============================] - 1s 276ms/step - loss: 0.0247 - acc: 0.9895 - val_loss: 3.0477 - val_acc: 0.6190\n",
      "Epoch 146/150\n",
      "2/2 [==============================] - 1s 264ms/step - loss: 0.0314 - acc: 0.9895 - val_loss: 3.2859 - val_acc: 0.6032\n",
      "Epoch 147/150\n",
      "2/2 [==============================] - 1s 258ms/step - loss: 0.0560 - acc: 0.9789 - val_loss: 1.8456 - val_acc: 0.7143\n",
      "Epoch 148/150\n",
      "2/2 [==============================] - 1s 267ms/step - loss: 0.0199 - acc: 0.9947 - val_loss: 1.3557 - val_acc: 0.7937\n",
      "Epoch 149/150\n",
      "2/2 [==============================] - 1s 270ms/step - loss: 0.0706 - acc: 0.9842 - val_loss: 2.1873 - val_acc: 0.6508\n",
      "Epoch 150/150\n",
      "2/2 [==============================] - 1s 265ms/step - loss: 0.0289 - acc: 0.9842 - val_loss: 2.6759 - val_acc: 0.6032\n"
     ]
    },
    {
     "data": {
      "text/plain": [
       "<keras.callbacks.History at 0x1553f5635b0>"
      ]
     },
     "execution_count": 24,
     "metadata": {},
     "output_type": "execute_result"
    }
   ],
   "source": [
    "model.fit(x_train,\n",
    "         y_train,\n",
    "         batch_size=128,\n",
    "         epochs=150,\n",
    "         validation_data=(x_valid, y_valid),)"
   ]
  },
  {
   "cell_type": "code",
   "execution_count": 25,
   "id": "3553de1b",
   "metadata": {},
   "outputs": [
    {
     "name": "stdout",
     "output_type": "stream",
     "text": [
      "\n",
      " Test accuracy: 0.60317462682724\n"
     ]
    }
   ],
   "source": [
    "# Evaluate the model on test set\n",
    "score = model.evaluate(x_test, y_test, verbose=0)\n",
    "\n",
    "# Print test accuracy\n",
    "print('\\n', 'Test accuracy:', score[1])"
   ]
  },
  {
   "cell_type": "code",
   "execution_count": 26,
   "id": "f47032ae",
   "metadata": {},
   "outputs": [],
   "source": [
    "labels =[\"Yes\",  # index 0\n",
    "        \"No\",      # index 1\n",
    "        ]"
   ]
  },
  {
   "cell_type": "code",
   "execution_count": 27,
   "id": "70684ecb",
   "metadata": {},
   "outputs": [
    {
     "data": {
      "image/png": "[encoded data removed]",
      "text/plain": [
       "<Figure size 1440x576 with 15 Axes>"
      ]
     },
     "metadata": {},
     "output_type": "display_data"
    }
   ],
   "source": [
    "y_hat = model.predict(x_test)\n",
    "\n",
    "# Plot a random sample of 10 test images, their predicted labels and ground truth\n",
    "figure = plt.figure(figsize=(20, 8))\n",
    "for i, index in enumerate(np.random.choice(x_test.shape[0], size=15, replace=False)):\n",
    "    ax = figure.add_subplot(3, 5, i + 1, xticks=[], yticks=[])\n",
    "    # Display each image\n",
    "    ax.imshow(np.squeeze(x_test[index]))\n",
    "    predict_index = np.argmax(y_hat[index])\n",
    "    true_index = np.argmax(y_test[index])\n",
    "    # Set the title for each image\n",
    "    ax.set_title(\"{} ({})\".format(labels[predict_index], \n",
    "                                  labels[true_index]),\n",
    "                                  color=(\"green\" if predict_index == true_index else \"red\"))\n",
    "plt.show()"
   ]
  },
  {
   "cell_type": "code",
   "execution_count": null,
   "id": "e9684990",
   "metadata": {},
   "outputs": [],
   "source": []
  },
  {
   "cell_type": "code",
   "execution_count": null,
   "id": "adf9fd92",
   "metadata": {},
   "outputs": [],
   "source": []
  },
  {
   "cell_type": "code",
   "execution_count": null,
   "id": "6b863f8b",
   "metadata": {},
   "outputs": [],
   "source": []
  },
  {
   "cell_type": "code",
   "execution_count": null,
   "id": "b660f19c",
   "metadata": {},
   "outputs": [],
   "source": []
  },
  {
   "cell_type": "code",
   "execution_count": null,
   "id": "c05ab400",
   "metadata": {},
   "outputs": [],
   "source": []
  },
  {
   "cell_type": "code",
   "execution_count": null,
   "id": "a7c93faa",
   "metadata": {},
   "outputs": [],
   "source": []
  }
 ],
 "metadata": {
  "kernelspec": {
   "display_name": "Python 3 (ipykernel)",
   "language": "python",
   "name": "python3"
  },
  "language_info": {
   "codemirror_mode": {
    "name": "ipython",
    "version": 3
   },
   "file_extension": ".py",
   "mimetype": "text/x-python",
   "name": "python",
   "nbconvert_exporter": "python",
   "pygments_lexer": "ipython3",
   "version": "3.9.7"
  }
 },
 "nbformat": 4,
 "nbformat_minor": 5
}
